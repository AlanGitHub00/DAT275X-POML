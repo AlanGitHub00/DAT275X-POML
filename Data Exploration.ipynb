{
 "cells": [
  {
   "cell_type": "markdown",
   "metadata": {},
   "source": [
    "## Import all Libaries and Csvs"
   ]
  },
  {
   "cell_type": "code",
   "execution_count": 2,
   "metadata": {},
   "outputs": [],
   "source": [
    "import pandas as pd\n",
    "import numpy as np\n",
    "import matplotlib.pyplot as plt\n",
    "import seaborn as sns\n",
    "from dateutil.relativedelta import relativedelta\n",
    "from sklearn import preprocessing"
   ]
  },
  {
   "cell_type": "code",
   "execution_count": 3,
   "metadata": {},
   "outputs": [],
   "source": [
    "ave_monthspend = pd.read_csv('AW_AveMonthSpend.csv')\n",
    "bike_buyer = pd.read_csv('AW_BikeBuyer.csv')\n",
    "work_cust = pd.read_csv('AdvWorksCusts.csv')\n",
    "#ave_monthspend.tail()"
   ]
  },
  {
   "cell_type": "code",
   "execution_count": 4,
   "metadata": {},
   "outputs": [
    {
     "data": {
      "text/html": [
       "<div>\n",
       "<style scoped>\n",
       "    .dataframe tbody tr th:only-of-type {\n",
       "        vertical-align: middle;\n",
       "    }\n",
       "\n",
       "    .dataframe tbody tr th {\n",
       "        vertical-align: top;\n",
       "    }\n",
       "\n",
       "    .dataframe thead th {\n",
       "        text-align: right;\n",
       "    }\n",
       "</style>\n",
       "<table border=\"1\" class=\"dataframe\">\n",
       "  <thead>\n",
       "    <tr style=\"text-align: right;\">\n",
       "      <th></th>\n",
       "      <th>0</th>\n",
       "      <th>1</th>\n",
       "      <th>2</th>\n",
       "      <th>3</th>\n",
       "      <th>4</th>\n",
       "    </tr>\n",
       "  </thead>\n",
       "  <tbody>\n",
       "    <tr>\n",
       "      <th>CustomerID</th>\n",
       "      <td>11000</td>\n",
       "      <td>11001</td>\n",
       "      <td>11002</td>\n",
       "      <td>11003</td>\n",
       "      <td>11004</td>\n",
       "    </tr>\n",
       "    <tr>\n",
       "      <th>Title</th>\n",
       "      <td>NaN</td>\n",
       "      <td>NaN</td>\n",
       "      <td>NaN</td>\n",
       "      <td>NaN</td>\n",
       "      <td>NaN</td>\n",
       "    </tr>\n",
       "    <tr>\n",
       "      <th>FirstName</th>\n",
       "      <td>Jon</td>\n",
       "      <td>Eugene</td>\n",
       "      <td>Ruben</td>\n",
       "      <td>Christy</td>\n",
       "      <td>Elizabeth</td>\n",
       "    </tr>\n",
       "    <tr>\n",
       "      <th>MiddleName</th>\n",
       "      <td>V</td>\n",
       "      <td>L</td>\n",
       "      <td>NaN</td>\n",
       "      <td>NaN</td>\n",
       "      <td>NaN</td>\n",
       "    </tr>\n",
       "    <tr>\n",
       "      <th>LastName</th>\n",
       "      <td>Yang</td>\n",
       "      <td>Huang</td>\n",
       "      <td>Torres</td>\n",
       "      <td>Zhu</td>\n",
       "      <td>Johnson</td>\n",
       "    </tr>\n",
       "    <tr>\n",
       "      <th>Suffix</th>\n",
       "      <td>NaN</td>\n",
       "      <td>NaN</td>\n",
       "      <td>NaN</td>\n",
       "      <td>NaN</td>\n",
       "      <td>NaN</td>\n",
       "    </tr>\n",
       "    <tr>\n",
       "      <th>AddressLine1</th>\n",
       "      <td>3761 N. 14th St</td>\n",
       "      <td>2243 W St.</td>\n",
       "      <td>5844 Linden Land</td>\n",
       "      <td>1825 Village Pl.</td>\n",
       "      <td>7553 Harness Circle</td>\n",
       "    </tr>\n",
       "    <tr>\n",
       "      <th>AddressLine2</th>\n",
       "      <td>NaN</td>\n",
       "      <td>NaN</td>\n",
       "      <td>NaN</td>\n",
       "      <td>NaN</td>\n",
       "      <td>NaN</td>\n",
       "    </tr>\n",
       "    <tr>\n",
       "      <th>City</th>\n",
       "      <td>Rockhampton</td>\n",
       "      <td>Seaford</td>\n",
       "      <td>Hobart</td>\n",
       "      <td>North Ryde</td>\n",
       "      <td>Wollongong</td>\n",
       "    </tr>\n",
       "    <tr>\n",
       "      <th>StateProvinceName</th>\n",
       "      <td>Queensland</td>\n",
       "      <td>Victoria</td>\n",
       "      <td>Tasmania</td>\n",
       "      <td>New South Wales</td>\n",
       "      <td>New South Wales</td>\n",
       "    </tr>\n",
       "    <tr>\n",
       "      <th>CountryRegionName</th>\n",
       "      <td>Australia</td>\n",
       "      <td>Australia</td>\n",
       "      <td>Australia</td>\n",
       "      <td>Australia</td>\n",
       "      <td>Australia</td>\n",
       "    </tr>\n",
       "    <tr>\n",
       "      <th>PostalCode</th>\n",
       "      <td>4700</td>\n",
       "      <td>3198</td>\n",
       "      <td>7001</td>\n",
       "      <td>2113</td>\n",
       "      <td>2500</td>\n",
       "    </tr>\n",
       "    <tr>\n",
       "      <th>PhoneNumber</th>\n",
       "      <td>1 (11) 500 555-0162</td>\n",
       "      <td>1 (11) 500 555-0110</td>\n",
       "      <td>1 (11) 500 555-0184</td>\n",
       "      <td>1 (11) 500 555-0162</td>\n",
       "      <td>1 (11) 500 555-0131</td>\n",
       "    </tr>\n",
       "    <tr>\n",
       "      <th>BirthDate</th>\n",
       "      <td>1966-04-08</td>\n",
       "      <td>1965-05-14</td>\n",
       "      <td>1965-08-12</td>\n",
       "      <td>1968-02-15</td>\n",
       "      <td>1968-08-08</td>\n",
       "    </tr>\n",
       "    <tr>\n",
       "      <th>Education</th>\n",
       "      <td>Bachelors</td>\n",
       "      <td>Bachelors</td>\n",
       "      <td>Bachelors</td>\n",
       "      <td>Bachelors</td>\n",
       "      <td>Bachelors</td>\n",
       "    </tr>\n",
       "    <tr>\n",
       "      <th>Occupation</th>\n",
       "      <td>Professional</td>\n",
       "      <td>Professional</td>\n",
       "      <td>Professional</td>\n",
       "      <td>Professional</td>\n",
       "      <td>Professional</td>\n",
       "    </tr>\n",
       "    <tr>\n",
       "      <th>Gender</th>\n",
       "      <td>M</td>\n",
       "      <td>M</td>\n",
       "      <td>M</td>\n",
       "      <td>F</td>\n",
       "      <td>F</td>\n",
       "    </tr>\n",
       "    <tr>\n",
       "      <th>MaritalStatus</th>\n",
       "      <td>M</td>\n",
       "      <td>S</td>\n",
       "      <td>M</td>\n",
       "      <td>S</td>\n",
       "      <td>S</td>\n",
       "    </tr>\n",
       "    <tr>\n",
       "      <th>HomeOwnerFlag</th>\n",
       "      <td>1</td>\n",
       "      <td>0</td>\n",
       "      <td>1</td>\n",
       "      <td>0</td>\n",
       "      <td>1</td>\n",
       "    </tr>\n",
       "    <tr>\n",
       "      <th>NumberCarsOwned</th>\n",
       "      <td>0</td>\n",
       "      <td>1</td>\n",
       "      <td>1</td>\n",
       "      <td>1</td>\n",
       "      <td>4</td>\n",
       "    </tr>\n",
       "    <tr>\n",
       "      <th>NumberChildrenAtHome</th>\n",
       "      <td>0</td>\n",
       "      <td>3</td>\n",
       "      <td>3</td>\n",
       "      <td>0</td>\n",
       "      <td>5</td>\n",
       "    </tr>\n",
       "    <tr>\n",
       "      <th>TotalChildren</th>\n",
       "      <td>2</td>\n",
       "      <td>3</td>\n",
       "      <td>3</td>\n",
       "      <td>0</td>\n",
       "      <td>5</td>\n",
       "    </tr>\n",
       "    <tr>\n",
       "      <th>YearlyIncome</th>\n",
       "      <td>137947</td>\n",
       "      <td>101141</td>\n",
       "      <td>91945</td>\n",
       "      <td>86688</td>\n",
       "      <td>92771</td>\n",
       "    </tr>\n",
       "    <tr>\n",
       "      <th>BikeBuyer</th>\n",
       "      <td>0</td>\n",
       "      <td>1</td>\n",
       "      <td>0</td>\n",
       "      <td>0</td>\n",
       "      <td>1</td>\n",
       "    </tr>\n",
       "    <tr>\n",
       "      <th>AveMonthSpend</th>\n",
       "      <td>89</td>\n",
       "      <td>117</td>\n",
       "      <td>123</td>\n",
       "      <td>50</td>\n",
       "      <td>95</td>\n",
       "    </tr>\n",
       "  </tbody>\n",
       "</table>\n",
       "</div>"
      ],
      "text/plain": [
       "                                        0                    1  \\\n",
       "CustomerID                          11000                11001   \n",
       "Title                                 NaN                  NaN   \n",
       "FirstName                             Jon               Eugene   \n",
       "MiddleName                              V                    L   \n",
       "LastName                             Yang                Huang   \n",
       "Suffix                                NaN                  NaN   \n",
       "AddressLine1              3761 N. 14th St           2243 W St.   \n",
       "AddressLine2                          NaN                  NaN   \n",
       "City                          Rockhampton              Seaford   \n",
       "StateProvinceName              Queensland             Victoria   \n",
       "CountryRegionName               Australia            Australia   \n",
       "PostalCode                           4700                 3198   \n",
       "PhoneNumber           1 (11) 500 555-0162  1 (11) 500 555-0110   \n",
       "BirthDate                      1966-04-08           1965-05-14   \n",
       "Education                      Bachelors            Bachelors    \n",
       "Occupation                   Professional         Professional   \n",
       "Gender                                  M                    M   \n",
       "MaritalStatus                           M                    S   \n",
       "HomeOwnerFlag                           1                    0   \n",
       "NumberCarsOwned                         0                    1   \n",
       "NumberChildrenAtHome                    0                    3   \n",
       "TotalChildren                           2                    3   \n",
       "YearlyIncome                       137947               101141   \n",
       "BikeBuyer                               0                    1   \n",
       "AveMonthSpend                          89                  117   \n",
       "\n",
       "                                        2                    3  \\\n",
       "CustomerID                          11002                11003   \n",
       "Title                                 NaN                  NaN   \n",
       "FirstName                           Ruben              Christy   \n",
       "MiddleName                            NaN                  NaN   \n",
       "LastName                           Torres                  Zhu   \n",
       "Suffix                                NaN                  NaN   \n",
       "AddressLine1             5844 Linden Land     1825 Village Pl.   \n",
       "AddressLine2                          NaN                  NaN   \n",
       "City                               Hobart           North Ryde   \n",
       "StateProvinceName                Tasmania      New South Wales   \n",
       "CountryRegionName               Australia            Australia   \n",
       "PostalCode                           7001                 2113   \n",
       "PhoneNumber           1 (11) 500 555-0184  1 (11) 500 555-0162   \n",
       "BirthDate                      1965-08-12           1968-02-15   \n",
       "Education                      Bachelors            Bachelors    \n",
       "Occupation                   Professional         Professional   \n",
       "Gender                                  M                    F   \n",
       "MaritalStatus                           M                    S   \n",
       "HomeOwnerFlag                           1                    0   \n",
       "NumberCarsOwned                         1                    1   \n",
       "NumberChildrenAtHome                    3                    0   \n",
       "TotalChildren                           3                    0   \n",
       "YearlyIncome                        91945                86688   \n",
       "BikeBuyer                               0                    0   \n",
       "AveMonthSpend                         123                   50   \n",
       "\n",
       "                                        4  \n",
       "CustomerID                          11004  \n",
       "Title                                 NaN  \n",
       "FirstName                       Elizabeth  \n",
       "MiddleName                            NaN  \n",
       "LastName                          Johnson  \n",
       "Suffix                                NaN  \n",
       "AddressLine1          7553 Harness Circle  \n",
       "AddressLine2                          NaN  \n",
       "City                           Wollongong  \n",
       "StateProvinceName         New South Wales  \n",
       "CountryRegionName               Australia  \n",
       "PostalCode                           2500  \n",
       "PhoneNumber           1 (11) 500 555-0131  \n",
       "BirthDate                      1968-08-08  \n",
       "Education                      Bachelors   \n",
       "Occupation                   Professional  \n",
       "Gender                                  F  \n",
       "MaritalStatus                           S  \n",
       "HomeOwnerFlag                           1  \n",
       "NumberCarsOwned                         4  \n",
       "NumberChildrenAtHome                    5  \n",
       "TotalChildren                           5  \n",
       "YearlyIncome                        92771  \n",
       "BikeBuyer                               1  \n",
       "AveMonthSpend                          95  "
      ]
     },
     "execution_count": 4,
     "metadata": {},
     "output_type": "execute_result"
    }
   ],
   "source": [
    "# Combine all three csv\n",
    "work_cust['BikeBuyer'] = bike_buyer['BikeBuyer']\n",
    "work_cust['AveMonthSpend'] = ave_monthspend['AveMonthSpend']\n",
    "work_cust.head().transpose()"
   ]
  },
  {
   "cell_type": "markdown",
   "metadata": {},
   "source": [
    "## Ave_MonthSpend"
   ]
  },
  {
   "cell_type": "markdown",
   "metadata": {},
   "source": [
    "ave_monthspend['AveMonthSpend'].describe()"
   ]
  },
  {
   "cell_type": "markdown",
   "metadata": {},
   "source": [
    "#### Duplicates\n",
    "print(ave_monthspend.shape)\n",
    "print(ave_monthspend.CustomerID.unique().shape)\n",
    "\n",
    "before = ave_monthspend.shape[0]\n",
    "unique = ave_monthspend.CustomerID.unique().shape[0]\n",
    "after = before - unique\n",
    "print(\"Difference:\", after)"
   ]
  },
  {
   "cell_type": "markdown",
   "metadata": {},
   "source": [
    "## Bike Buyer"
   ]
  },
  {
   "cell_type": "markdown",
   "metadata": {},
   "source": [
    "#bike_buyer = pd.read_csv('AW_BikeBuyer.csv')\n",
    "print(bike_buyer.shape)\n",
    "bike_buyer.head()"
   ]
  },
  {
   "cell_type": "markdown",
   "metadata": {},
   "source": [
    "#### Question 6\n",
    "bike_buyer['BikeBuyer'].value_counts()"
   ]
  },
  {
   "cell_type": "markdown",
   "metadata": {},
   "source": [
    "#### Duplicates\n",
    "print(bike_buyer.shape)\n",
    "print(bike_buyer.CustomerID.unique().shape)\n",
    "\n",
    "before = bike_buyer.shape[0]\n",
    "unique = bike_buyer.CustomerID.unique().shape[0]\n",
    "after = before - unique\n",
    "print(\"Difference:\", after)"
   ]
  },
  {
   "cell_type": "markdown",
   "metadata": {},
   "source": [
    "#### Check columns that have null value\n",
    "bike_buyer.astype(np.object).isnull().any()"
   ]
  },
  {
   "cell_type": "markdown",
   "metadata": {},
   "source": [
    "## Works Custs"
   ]
  },
  {
   "cell_type": "markdown",
   "metadata": {},
   "source": [
    "#work_cust = pd.read_csv('AdvWorksCusts.csv')\n",
    "print(work_cust.shape)\n",
    "work_cust.head().transpose()"
   ]
  },
  {
   "cell_type": "markdown",
   "metadata": {},
   "source": [
    "#### Question 7\n",
    "#### Select the correct order (from lowest to highest) that \n",
    "#### ranks the median YearlyIncome by Occupation:\n",
    "\n",
    "work_cust.groupby('Occupation')['YearlyIncome'].median()"
   ]
  },
  {
   "cell_type": "code",
   "execution_count": 5,
   "metadata": {},
   "outputs": [
    {
     "name": "stdout",
     "output_type": "stream",
     "text": [
      "Total: 16519 Unique: 16404\n",
      "115\n"
     ]
    }
   ],
   "source": [
    "# Df contains 115 duplicates\n",
    "cont_duplicates = work_cust.shape[0]\n",
    "unique_df = work_cust.CustomerID.unique().shape[0]\n",
    "print(\"Total:\", cont_duplicates,\n",
    "      \"Unique:\", unique_df)\n",
    "print(cont_duplicates-unique_df)"
   ]
  },
  {
   "cell_type": "code",
   "execution_count": 6,
   "metadata": {},
   "outputs": [
    {
     "name": "stdout",
     "output_type": "stream",
     "text": [
      "16519\n",
      "16404\n"
     ]
    }
   ],
   "source": [
    "# Remove duplicates and keep the lastest one\n",
    "print(cont_duplicates)\n",
    "work_cust.drop_duplicates(subset = 'CustomerID', keep = 'last', inplace = True)\n",
    "print(work_cust.shape[0])"
   ]
  },
  {
   "cell_type": "markdown",
   "metadata": {},
   "source": [
    "#### Check if any columns has null value\n",
    "work_cust.astype(np.object).isnull().any()"
   ]
  },
  {
   "cell_type": "code",
   "execution_count": 7,
   "metadata": {},
   "outputs": [
    {
     "name": "stdout",
     "output_type": "stream",
     "text": [
      "<class 'pandas.core.frame.DataFrame'>\n",
      "Int64Index: 16404 entries, 0 to 16518\n",
      "Data columns (total 25 columns):\n",
      "CustomerID              16404 non-null int64\n",
      "Title                   88 non-null object\n",
      "FirstName               16404 non-null object\n",
      "MiddleName              9453 non-null object\n",
      "LastName                16404 non-null object\n",
      "Suffix                  2 non-null object\n",
      "AddressLine1            16404 non-null object\n",
      "AddressLine2            273 non-null object\n",
      "City                    16404 non-null object\n",
      "StateProvinceName       16404 non-null object\n",
      "CountryRegionName       16404 non-null object\n",
      "PostalCode              16404 non-null object\n",
      "PhoneNumber             16404 non-null object\n",
      "BirthDate               16404 non-null object\n",
      "Education               16404 non-null object\n",
      "Occupation              16404 non-null object\n",
      "Gender                  16404 non-null object\n",
      "MaritalStatus           16404 non-null object\n",
      "HomeOwnerFlag           16404 non-null int64\n",
      "NumberCarsOwned         16404 non-null int64\n",
      "NumberChildrenAtHome    16404 non-null int64\n",
      "TotalChildren           16404 non-null int64\n",
      "YearlyIncome            16404 non-null int64\n",
      "BikeBuyer               16404 non-null int64\n",
      "AveMonthSpend           16404 non-null int64\n",
      "dtypes: int64(8), object(17)\n",
      "memory usage: 3.3+ MB\n"
     ]
    }
   ],
   "source": [
    "work_cust.info()"
   ]
  },
  {
   "cell_type": "code",
   "execution_count": 8,
   "metadata": {},
   "outputs": [
    {
     "data": {
      "text/plain": [
       "M    8290\n",
       "F    8114\n",
       "Name: Gender, dtype: int64"
      ]
     },
     "execution_count": 8,
     "metadata": {},
     "output_type": "execute_result"
    }
   ],
   "source": [
    "work_cust.Gender.value_counts()"
   ]
  },
  {
   "cell_type": "code",
   "execution_count": 9,
   "metadata": {},
   "outputs": [],
   "source": [
    "# Drop columns with too many missing values\n",
    "work_cust.drop(['Title','MiddleName','Suffix', 'AddressLine2'], axis = 1, inplace = True)"
   ]
  },
  {
   "cell_type": "code",
   "execution_count": 10,
   "metadata": {},
   "outputs": [],
   "source": [
    "# Calculate age of customer based on birthdate\n",
    "def calculate_age(end):\n",
    "    r = relativedelta(pd.to_datetime('now'), pd.to_datetime(end)) \n",
    "    return '{}'.format(r.years)\n",
    "\n",
    "\n",
    "work_cust['Age'] = work_cust['BirthDate'].apply(calculate_age)\n",
    "\n",
    "# Convert age to integer\n",
    "work_cust['Age'] = work_cust['Age'].astype('int64')"
   ]
  },
  {
   "cell_type": "code",
   "execution_count": 11,
   "metadata": {},
   "outputs": [
    {
     "data": {
      "image/png": "[encoded data removed]",
      "text/plain": [
       "<matplotlib.figure.Figure at 0x1d3c167e710>"
      ]
     },
     "metadata": {},
     "output_type": "display_data"
    },
    {
     "data": {
      "image/png": "[encoded data removed]",
      "text/plain": [
       "<matplotlib.figure.Figure at 0x1d3c9b6b0b8>"
      ]
     },
     "metadata": {},
     "output_type": "display_data"
    }
   ],
   "source": [
    "def plot_box(work_cust, cols, col_x = 'BikeBuyer'):\n",
    "    for col in cols:\n",
    "        sns.set_style('whitegrid')\n",
    "        sns.boxplot(col_x, col, data=work_cust)\n",
    "        plt.xlabel(col_x) # Set text for the x axis\n",
    "        plt.ylabel(col)# Set text for y axis\n",
    "        plt.show()\n",
    "\n",
    "num_cols = ['YearlyIncome','NumberCarsOwned']\n",
    "plot_box(work_cust, num_cols)"
   ]
  },
  {
   "cell_type": "code",
   "execution_count": 13,
   "metadata": {},
   "outputs": [
    {
     "name": "stdout",
     "output_type": "stream",
     "text": [
      "Occupation\n"
     ]
    },
    {
     "data": {
      "image/png": "[encoded data removed]",
      "text/plain": [
       "<matplotlib.figure.Figure at 0x1d3c976eb00>"
      ]
     },
     "metadata": {},
     "output_type": "display_data"
    },
    {
     "name": "stdout",
     "output_type": "stream",
     "text": [
      "Gender\n"
     ]
    },
    {
     "data": {
      "image/png": "[encoded data removed]",
      "text/plain": [
       "<matplotlib.figure.Figure at 0x1d3c97aef60>"
      ]
     },
     "metadata": {},
     "output_type": "display_data"
    },
    {
     "name": "stdout",
     "output_type": "stream",
     "text": [
      "MaritalStatus\n"
     ]
    },
    {
     "data": {
      "image/png": "[encoded data removed]",
      "text/plain": [
       "<matplotlib.figure.Figure at 0x1d3c97c57b8>"
      ]
     },
     "metadata": {},
     "output_type": "display_data"
    }
   ],
   "source": [
    "cat_cols = ['Occupation','Gender','MaritalStatus']\n",
    "\n",
    "work_cust['dummy'] = np.ones(shape = work_cust.shape[0])\n",
    "for col in cat_cols:\n",
    "    print(col)\n",
    "    counts = work_cust[['dummy', 'BikeBuyer', col]].groupby(['BikeBuyer', col], as_index = False).count()\n",
    "    temp = counts[counts['BikeBuyer'] == 0][[col, 'dummy']]\n",
    "    _ = plt.figure(figsize = (10,4))\n",
    "    plt.subplot(1, 2, 1)\n",
    "    temp = counts[counts['BikeBuyer'] == 0][[col, 'dummy']]\n",
    "    plt.bar(temp[col], temp.dummy)\n",
    "    plt.xticks(rotation=90)\n",
    "    plt.title('Counts for ' + col + '\\n no bike purchase')\n",
    "    plt.ylabel('count')\n",
    "    plt.subplot(1, 2, 2)\n",
    "    temp = counts[counts['BikeBuyer'] == 1][[col, 'dummy']]\n",
    "    plt.bar(temp[col], temp.dummy)\n",
    "    plt.xticks(rotation=90)\n",
    "    plt.title('Counts for ' + col + '\\n customer bought bike')\n",
    "    plt.ylabel('count')\n",
    "    plt.show()"
   ]
  },
  {
   "cell_type": "code",
   "execution_count": 14,
   "metadata": {},
   "outputs": [],
   "source": [
    "work_cust.to_csv('work_cust.csv')"
   ]
  }
 ],
 "metadata": {
  "kernelspec": {
   "display_name": "Python 3",
   "language": "python",
   "name": "python3"
  },
  "language_info": {
   "codemirror_mode": {
    "name": "ipython",
    "version": 3
   },
   "file_extension": ".py",
   "mimetype": "text/x-python",
   "name": "python",
   "nbconvert_exporter": "python",
   "pygments_lexer": "ipython3",
   "version": "3.5.4"
  }
 },
 "nbformat": 4,
 "nbformat_minor": 2
}
